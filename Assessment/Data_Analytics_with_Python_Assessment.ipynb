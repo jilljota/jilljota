{
  "nbformat": 4,
  "nbformat_minor": 0,
  "metadata": {
    "colab": {
      "provenance": [],
      "collapsed_sections": [
        "jXkjbG86QL5G",
        "3ZF33AOoRP9Z",
        "M8GDnps-RR9q",
        "knNIuhCoSFNx",
        "osg640SM-ySa",
        "FpJ9_gGH_g9Z",
        "kydBDNX0AWbd",
        "z9mN8HDMCreb",
        "GnePX9mfC-6I",
        "uWZZN2JGDPoQ",
        "u6rhIsN6DzXO",
        "atghBU1UEFja",
        "SRu7LPAYEOjw",
        "ZT4ReqO1EWyJ"
      ],
      "include_colab_link": true
    },
    "kernelspec": {
      "name": "python3",
      "display_name": "Python 3"
    },
    "language_info": {
      "name": "python"
    }
  },
  "cells": [
    {
      "cell_type": "markdown",
      "metadata": {
        "id": "view-in-github",
        "colab_type": "text"
      },
      "source": [
        "<a href=\"https://colab.research.google.com/github/jilljota/jilljota/blob/main/Assessment/Data_Analytics_with_Python_Assessment.ipynb\" target=\"_parent\"><img src=\"https://colab.research.google.com/assets/colab-badge.svg\" alt=\"Open In Colab\"/></a>"
      ]
    },
    {
      "cell_type": "markdown",
      "source": [
        "# Introduction\n",
        "\n",
        "This assessment aims to evaluate your understanding and application of the concepts covered in the Data Analytics course. You will be tasked with analyzing a dataset related to remote work and mental health, utilizing various data manipulation, statistical analysis, and visualization techniques learned throughout the course. This exercise will help reinforce your skills in data handling, exploratory analysis, and drawing meaningful insights from data.\n",
        "\n",
        "### Submission Details:\n",
        "\n",
        "The deadline for submission is 16 November at 11:59 PM. Specific submission details will be shared with you shortly.\n",
        "\n",
        "### Passing Criteria:\n",
        "\n",
        "To successfully pass this assessment, you must achieve a score of 80% or higher.\n",
        "We encourage you to engage with the material and demonstrate your analytical skills. Good luck!\n",
        "\n",
        "\n",
        "---\n",
        "\n"
      ],
      "metadata": {
        "id": "ZofcnJAIJHaX"
      }
    },
    {
      "cell_type": "markdown",
      "source": [
        "# Section 1 - Beginner (25%)\n"
      ],
      "metadata": {
        "id": "t6EemGQaDLyU"
      }
    },
    {
      "cell_type": "markdown",
      "source": [
        "## Shopping Cart System with Discounts\n",
        "\n",
        "Write a Python program to simulate a shopping cart system for an online store. The program will calculate the total cost of items, apply discounts, and check if the total exceeds a specified budget."
      ],
      "metadata": {
        "id": "IEQXM5QADPRl"
      }
    },
    {
      "cell_type": "markdown",
      "source": [
        "1.\tVariables and Lists:\n",
        "  - Define a `budget` variable with an initial value of 200.\n",
        "  \n",
        "  - Create two empty lists called `item_names_list` and `item_prices_list` to store the name and price of each item separately."
      ],
      "metadata": {
        "id": "dKkPEPpCDyda"
      }
    },
    {
      "cell_type": "code",
      "execution_count": 71,
      "metadata": {
        "id": "4lXTHMaCC8VO"
      },
      "outputs": [],
      "source": [
        "# Write your code here\n",
        "budget = 200\n",
        "item_names_list = []\n",
        "item_prices_list = []"
      ]
    },
    {
      "cell_type": "markdown",
      "source": [
        "2. Functions:\n",
        "  - Write a function `add_item_to_cart(item_name, item_price)` that takes the item’s name and price as arguments, appends the name to item_names and the price to item_prices, and returns both updated lists.\n",
        "  \n",
        "  - Write a function `calculate_total(item_prices)` that calculates and returns the total cost of all items in item_prices.\n",
        "\n",
        "    Conditions:\n",
        "    - If the total cost exceeds the budget after adding an item, print \"Budget exceeded!\" and stop adding more items.\n",
        "    - If the total cost is within budget and exceeds $100, apply a 10% discount on the total and print the discounted total."
      ],
      "metadata": {
        "id": "wRAwexQhD0cq"
      }
    },
    {
      "cell_type": "code",
      "source": [
        "# Write your code here\n",
        "def add_item_to_cart(item_name, item_price):\n",
        "  item_names_list.append(item_name)\n",
        "  item_prices_list.append(item_price)\n",
        "  return item_names_list, item_prices_list\n",
        "\n",
        "def calculate_total(item_prices):\n",
        "  total = sum(item_prices)\n",
        "  discounted_total = 0\n",
        "  if total > budget:\n",
        "    print(\"Budget exceeded!\")\n",
        "    return total, discounted_total\n",
        "  elif total > 100:\n",
        "    discounted_total = total * 0.1\n",
        "    final_total = total - discounted_total\n",
        "    print(f\"Discount applied, discounted total: ${discounted_total:.2f}\")\n",
        "    return final_total, discounted_total\n",
        "  else:\n",
        "    return total, discounted_total"
      ],
      "metadata": {
        "id": "g_UiAVHSD3UK"
      },
      "execution_count": 72,
      "outputs": []
    },
    {
      "cell_type": "markdown",
      "source": [
        "3.\tLoop and Input:\n",
        "  - Start the input only once the user says 'start'\n",
        "  - Use a loop to allow the user to add items to the cart by entering an item name and price. The loop should stop when the user types 'done'.\n",
        "  - For each item, add it to item_names and item_prices using add_item_to_cart, then update the total cost using calculate_total.\n",
        "\n",
        "Output:\n",
        "  - After the loop ends, display the final cart with each item and its price, the initial total, any applicable discount, and the final total.\n"
      ],
      "metadata": {
        "id": "B22U5SdVEKeH"
      }
    },
    {
      "cell_type": "code",
      "source": [
        "# Write your code here\n",
        "user_input = input(\"Enter 'start' to begin adding items to the cart: \")\n",
        "if user_input == \"start\":\n",
        "  while True:\n",
        "    item_name = input(\"Enter the item name: \")\n",
        "    if item_name == \"done\":\n",
        "      break\n",
        "    item_price = float(input(\"Enter the item price: $\"))\n",
        "    add_item_to_cart(item_name, item_price)\n",
        "    total, discounted_total60 = calculate_total(item_prices_list)\n",
        "\n",
        "initial_total = sum(item_prices_list)\n",
        "\n",
        "print(\"Final cart:\")\n",
        "for i in range(len(item_names_list)):\n",
        "  print(item_names_list[i], f\"${item_prices_list[i]}\")\n",
        "print(f\"Initial total: ${initial_total}\")\n",
        "print(f\"Discount: ${discounted_total}\")\n",
        "print(f\"Final total: ${total}\")\n"
      ],
      "metadata": {
        "id": "CJtjsE8YD6Mv",
        "outputId": "05f55fd6-7ff5-4a75-d4b4-5550f355fd7c",
        "colab": {
          "base_uri": "https://localhost:8080/"
        }
      },
      "execution_count": 73,
      "outputs": [
        {
          "output_type": "stream",
          "name": "stdout",
          "text": [
            "Enter 'start' to begin adding items to the cart: start\n",
            "Enter the item name: drinks\n",
            "Enter the item price: $11\n",
            "Enter the item name: books\n",
            "Enter the item price: $22\n",
            "Enter the item name: computer\n",
            "Enter the item price: $66\n",
            "Enter the item name: chargers\n",
            "Enter the item price: $17\n",
            "Discount applied, discounted total: $11.60\n",
            "Enter the item name: done\n",
            "Final cart:\n",
            "drinks $11.0\n",
            "books $22.0\n",
            "computer $66.0\n",
            "chargers $17.0\n",
            "Initial total: $116.0\n",
            "Discount: $12.0\n",
            "Final total: $104.4\n"
          ]
        }
      ]
    },
    {
      "cell_type": "code",
      "source": [
        "# Write your code here"
      ],
      "metadata": {
        "id": "M9IlBMeDEOxd"
      },
      "execution_count": 23,
      "outputs": []
    },
    {
      "cell_type": "markdown",
      "source": [
        "# Section 2 - Intermidiate (55%) - Remote Work and Mental Health Analysis\n",
        "\n",
        "Dataset source: Kaggle (https://www.kaggle.com/datasets/waqi786/remote-work-and-mental-health)\n",
        "\n",
        "\n"
      ],
      "metadata": {
        "id": "jXkjbG86QL5G"
      }
    },
    {
      "cell_type": "markdown",
      "source": [
        "## Objective:\n",
        "- In the following sections, you will explore the \"Remote Work and Mental Health\" dataset using Python and different data science libraries such as Pandas, NumPy and Matplotlib.\n",
        "- Follow the instructions below to complete each task. Please provide code for each question and any observations as comments when necessary."
      ],
      "metadata": {
        "id": "3ZF33AOoRP9Z"
      }
    },
    {
      "cell_type": "code",
      "source": [
        "# Import necessary modules and libraries\n",
        "import pandas as pd\n",
        "import numpy as np\n",
        "import matplotlib.pyplot as plt"
      ],
      "metadata": {
        "id": "zX8_bEfKSGcB"
      },
      "execution_count": 87,
      "outputs": []
    },
    {
      "cell_type": "markdown",
      "source": [
        "## 1. Load Dataset (2 marks)\n",
        "- Instructions: Load the dataset using Pandas and display few rows.\n",
        "- Question: Describe the overall structure (rows, columns, data types) as a comment at the end of your code.\n"
      ],
      "metadata": {
        "id": "M8GDnps-RR9q"
      }
    },
    {
      "cell_type": "code",
      "source": [
        "# Write code here\n",
        "from google.colab import files\n",
        "uploaded = files.upload()\n",
        "\n",
        "df = pd.read_csv(\"dataset.csv\")\n",
        "\n",
        "print(\"Few rows of the dataset:\")\n",
        "head_rows = df.head()\n",
        "head_rows"
      ],
      "metadata": {
        "id": "iN_Ne4xKSE_g",
        "colab": {
          "base_uri": "https://localhost:8080/",
          "height": 385
        },
        "outputId": "34b3b69f-983f-4025-c299-f18eb4a7ddf0"
      },
      "execution_count": 99,
      "outputs": [
        {
          "output_type": "display_data",
          "data": {
            "text/plain": [
              "<IPython.core.display.HTML object>"
            ],
            "text/html": [
              "\n",
              "     <input type=\"file\" id=\"files-de169ac8-3a14-4098-992b-75a94a133fcc\" name=\"files[]\" multiple disabled\n",
              "        style=\"border:none\" />\n",
              "     <output id=\"result-de169ac8-3a14-4098-992b-75a94a133fcc\">\n",
              "      Upload widget is only available when the cell has been executed in the\n",
              "      current browser session. Please rerun this cell to enable.\n",
              "      </output>\n",
              "      <script>// Copyright 2017 Google LLC\n",
              "//\n",
              "// Licensed under the Apache License, Version 2.0 (the \"License\");\n",
              "// you may not use this file except in compliance with the License.\n",
              "// You may obtain a copy of the License at\n",
              "//\n",
              "//      http://www.apache.org/licenses/LICENSE-2.0\n",
              "//\n",
              "// Unless required by applicable law or agreed to in writing, software\n",
              "// distributed under the License is distributed on an \"AS IS\" BASIS,\n",
              "// WITHOUT WARRANTIES OR CONDITIONS OF ANY KIND, either express or implied.\n",
              "// See the License for the specific language governing permissions and\n",
              "// limitations under the License.\n",
              "\n",
              "/**\n",
              " * @fileoverview Helpers for google.colab Python module.\n",
              " */\n",
              "(function(scope) {\n",
              "function span(text, styleAttributes = {}) {\n",
              "  const element = document.createElement('span');\n",
              "  element.textContent = text;\n",
              "  for (const key of Object.keys(styleAttributes)) {\n",
              "    element.style[key] = styleAttributes[key];\n",
              "  }\n",
              "  return element;\n",
              "}\n",
              "\n",
              "// Max number of bytes which will be uploaded at a time.\n",
              "const MAX_PAYLOAD_SIZE = 100 * 1024;\n",
              "\n",
              "function _uploadFiles(inputId, outputId) {\n",
              "  const steps = uploadFilesStep(inputId, outputId);\n",
              "  const outputElement = document.getElementById(outputId);\n",
              "  // Cache steps on the outputElement to make it available for the next call\n",
              "  // to uploadFilesContinue from Python.\n",
              "  outputElement.steps = steps;\n",
              "\n",
              "  return _uploadFilesContinue(outputId);\n",
              "}\n",
              "\n",
              "// This is roughly an async generator (not supported in the browser yet),\n",
              "// where there are multiple asynchronous steps and the Python side is going\n",
              "// to poll for completion of each step.\n",
              "// This uses a Promise to block the python side on completion of each step,\n",
              "// then passes the result of the previous step as the input to the next step.\n",
              "function _uploadFilesContinue(outputId) {\n",
              "  const outputElement = document.getElementById(outputId);\n",
              "  const steps = outputElement.steps;\n",
              "\n",
              "  const next = steps.next(outputElement.lastPromiseValue);\n",
              "  return Promise.resolve(next.value.promise).then((value) => {\n",
              "    // Cache the last promise value to make it available to the next\n",
              "    // step of the generator.\n",
              "    outputElement.lastPromiseValue = value;\n",
              "    return next.value.response;\n",
              "  });\n",
              "}\n",
              "\n",
              "/**\n",
              " * Generator function which is called between each async step of the upload\n",
              " * process.\n",
              " * @param {string} inputId Element ID of the input file picker element.\n",
              " * @param {string} outputId Element ID of the output display.\n",
              " * @return {!Iterable<!Object>} Iterable of next steps.\n",
              " */\n",
              "function* uploadFilesStep(inputId, outputId) {\n",
              "  const inputElement = document.getElementById(inputId);\n",
              "  inputElement.disabled = false;\n",
              "\n",
              "  const outputElement = document.getElementById(outputId);\n",
              "  outputElement.innerHTML = '';\n",
              "\n",
              "  const pickedPromise = new Promise((resolve) => {\n",
              "    inputElement.addEventListener('change', (e) => {\n",
              "      resolve(e.target.files);\n",
              "    });\n",
              "  });\n",
              "\n",
              "  const cancel = document.createElement('button');\n",
              "  inputElement.parentElement.appendChild(cancel);\n",
              "  cancel.textContent = 'Cancel upload';\n",
              "  const cancelPromise = new Promise((resolve) => {\n",
              "    cancel.onclick = () => {\n",
              "      resolve(null);\n",
              "    };\n",
              "  });\n",
              "\n",
              "  // Wait for the user to pick the files.\n",
              "  const files = yield {\n",
              "    promise: Promise.race([pickedPromise, cancelPromise]),\n",
              "    response: {\n",
              "      action: 'starting',\n",
              "    }\n",
              "  };\n",
              "\n",
              "  cancel.remove();\n",
              "\n",
              "  // Disable the input element since further picks are not allowed.\n",
              "  inputElement.disabled = true;\n",
              "\n",
              "  if (!files) {\n",
              "    return {\n",
              "      response: {\n",
              "        action: 'complete',\n",
              "      }\n",
              "    };\n",
              "  }\n",
              "\n",
              "  for (const file of files) {\n",
              "    const li = document.createElement('li');\n",
              "    li.append(span(file.name, {fontWeight: 'bold'}));\n",
              "    li.append(span(\n",
              "        `(${file.type || 'n/a'}) - ${file.size} bytes, ` +\n",
              "        `last modified: ${\n",
              "            file.lastModifiedDate ? file.lastModifiedDate.toLocaleDateString() :\n",
              "                                    'n/a'} - `));\n",
              "    const percent = span('0% done');\n",
              "    li.appendChild(percent);\n",
              "\n",
              "    outputElement.appendChild(li);\n",
              "\n",
              "    const fileDataPromise = new Promise((resolve) => {\n",
              "      const reader = new FileReader();\n",
              "      reader.onload = (e) => {\n",
              "        resolve(e.target.result);\n",
              "      };\n",
              "      reader.readAsArrayBuffer(file);\n",
              "    });\n",
              "    // Wait for the data to be ready.\n",
              "    let fileData = yield {\n",
              "      promise: fileDataPromise,\n",
              "      response: {\n",
              "        action: 'continue',\n",
              "      }\n",
              "    };\n",
              "\n",
              "    // Use a chunked sending to avoid message size limits. See b/62115660.\n",
              "    let position = 0;\n",
              "    do {\n",
              "      const length = Math.min(fileData.byteLength - position, MAX_PAYLOAD_SIZE);\n",
              "      const chunk = new Uint8Array(fileData, position, length);\n",
              "      position += length;\n",
              "\n",
              "      const base64 = btoa(String.fromCharCode.apply(null, chunk));\n",
              "      yield {\n",
              "        response: {\n",
              "          action: 'append',\n",
              "          file: file.name,\n",
              "          data: base64,\n",
              "        },\n",
              "      };\n",
              "\n",
              "      let percentDone = fileData.byteLength === 0 ?\n",
              "          100 :\n",
              "          Math.round((position / fileData.byteLength) * 100);\n",
              "      percent.textContent = `${percentDone}% done`;\n",
              "\n",
              "    } while (position < fileData.byteLength);\n",
              "  }\n",
              "\n",
              "  // All done.\n",
              "  yield {\n",
              "    response: {\n",
              "      action: 'complete',\n",
              "    }\n",
              "  };\n",
              "}\n",
              "\n",
              "scope.google = scope.google || {};\n",
              "scope.google.colab = scope.google.colab || {};\n",
              "scope.google.colab._files = {\n",
              "  _uploadFiles,\n",
              "  _uploadFilesContinue,\n",
              "};\n",
              "})(self);\n",
              "</script> "
            ]
          },
          "metadata": {}
        },
        {
          "output_type": "error",
          "ename": "MessageError",
          "evalue": "RangeError: Maximum call stack size exceeded.",
          "traceback": [
            "\u001b[0;31m---------------------------------------------------------------------------\u001b[0m",
            "\u001b[0;31mMessageError\u001b[0m                              Traceback (most recent call last)",
            "\u001b[0;32m<ipython-input-99-ab84d1ffcaae>\u001b[0m in \u001b[0;36m<cell line: 3>\u001b[0;34m()\u001b[0m\n\u001b[1;32m      1\u001b[0m \u001b[0;31m# Write code here\u001b[0m\u001b[0;34m\u001b[0m\u001b[0;34m\u001b[0m\u001b[0m\n\u001b[1;32m      2\u001b[0m \u001b[0;32mfrom\u001b[0m \u001b[0mgoogle\u001b[0m\u001b[0;34m.\u001b[0m\u001b[0mcolab\u001b[0m \u001b[0;32mimport\u001b[0m \u001b[0mfiles\u001b[0m\u001b[0;34m\u001b[0m\u001b[0;34m\u001b[0m\u001b[0m\n\u001b[0;32m----> 3\u001b[0;31m \u001b[0muploaded\u001b[0m \u001b[0;34m=\u001b[0m \u001b[0mfiles\u001b[0m\u001b[0;34m.\u001b[0m\u001b[0mupload\u001b[0m\u001b[0;34m(\u001b[0m\u001b[0;34m)\u001b[0m\u001b[0;34m\u001b[0m\u001b[0;34m\u001b[0m\u001b[0m\n\u001b[0m\u001b[1;32m      4\u001b[0m \u001b[0;34m\u001b[0m\u001b[0m\n\u001b[1;32m      5\u001b[0m \u001b[0mdf\u001b[0m \u001b[0;34m=\u001b[0m \u001b[0mpd\u001b[0m\u001b[0;34m.\u001b[0m\u001b[0mread_csv\u001b[0m\u001b[0;34m(\u001b[0m\u001b[0;34m\"dataset.csv\"\u001b[0m\u001b[0;34m)\u001b[0m\u001b[0;34m\u001b[0m\u001b[0;34m\u001b[0m\u001b[0m\n",
            "\u001b[0;32m/usr/local/lib/python3.10/dist-packages/google/colab/files.py\u001b[0m in \u001b[0;36mupload\u001b[0;34m(target_dir)\u001b[0m\n\u001b[1;32m     70\u001b[0m   \"\"\"\n\u001b[1;32m     71\u001b[0m \u001b[0;34m\u001b[0m\u001b[0m\n\u001b[0;32m---> 72\u001b[0;31m   \u001b[0muploaded_files\u001b[0m \u001b[0;34m=\u001b[0m \u001b[0m_upload_files\u001b[0m\u001b[0;34m(\u001b[0m\u001b[0mmultiple\u001b[0m\u001b[0;34m=\u001b[0m\u001b[0;32mTrue\u001b[0m\u001b[0;34m)\u001b[0m\u001b[0;34m\u001b[0m\u001b[0;34m\u001b[0m\u001b[0m\n\u001b[0m\u001b[1;32m     73\u001b[0m   \u001b[0;31m# Mapping from original filename to filename as saved locally.\u001b[0m\u001b[0;34m\u001b[0m\u001b[0;34m\u001b[0m\u001b[0m\n\u001b[1;32m     74\u001b[0m   \u001b[0mlocal_filenames\u001b[0m \u001b[0;34m=\u001b[0m \u001b[0mdict\u001b[0m\u001b[0;34m(\u001b[0m\u001b[0;34m)\u001b[0m\u001b[0;34m\u001b[0m\u001b[0;34m\u001b[0m\u001b[0m\n",
            "\u001b[0;32m/usr/local/lib/python3.10/dist-packages/google/colab/files.py\u001b[0m in \u001b[0;36m_upload_files\u001b[0;34m(multiple)\u001b[0m\n\u001b[1;32m    170\u001b[0m \u001b[0;34m\u001b[0m\u001b[0m\n\u001b[1;32m    171\u001b[0m   \u001b[0;32mwhile\u001b[0m \u001b[0mresult\u001b[0m\u001b[0;34m[\u001b[0m\u001b[0;34m'action'\u001b[0m\u001b[0;34m]\u001b[0m \u001b[0;34m!=\u001b[0m \u001b[0;34m'complete'\u001b[0m\u001b[0;34m:\u001b[0m\u001b[0;34m\u001b[0m\u001b[0;34m\u001b[0m\u001b[0m\n\u001b[0;32m--> 172\u001b[0;31m     result = _output.eval_js(\n\u001b[0m\u001b[1;32m    173\u001b[0m         'google.colab._files._uploadFilesContinue(\"{output_id}\")'.format(\n\u001b[1;32m    174\u001b[0m             \u001b[0moutput_id\u001b[0m\u001b[0;34m=\u001b[0m\u001b[0moutput_id\u001b[0m\u001b[0;34m\u001b[0m\u001b[0;34m\u001b[0m\u001b[0m\n",
            "\u001b[0;32m/usr/local/lib/python3.10/dist-packages/google/colab/output/_js.py\u001b[0m in \u001b[0;36meval_js\u001b[0;34m(script, ignore_result, timeout_sec)\u001b[0m\n\u001b[1;32m     38\u001b[0m   \u001b[0;32mif\u001b[0m \u001b[0mignore_result\u001b[0m\u001b[0;34m:\u001b[0m\u001b[0;34m\u001b[0m\u001b[0;34m\u001b[0m\u001b[0m\n\u001b[1;32m     39\u001b[0m     \u001b[0;32mreturn\u001b[0m\u001b[0;34m\u001b[0m\u001b[0;34m\u001b[0m\u001b[0m\n\u001b[0;32m---> 40\u001b[0;31m   \u001b[0;32mreturn\u001b[0m \u001b[0m_message\u001b[0m\u001b[0;34m.\u001b[0m\u001b[0mread_reply_from_input\u001b[0m\u001b[0;34m(\u001b[0m\u001b[0mrequest_id\u001b[0m\u001b[0;34m,\u001b[0m \u001b[0mtimeout_sec\u001b[0m\u001b[0;34m)\u001b[0m\u001b[0;34m\u001b[0m\u001b[0;34m\u001b[0m\u001b[0m\n\u001b[0m\u001b[1;32m     41\u001b[0m \u001b[0;34m\u001b[0m\u001b[0m\n\u001b[1;32m     42\u001b[0m \u001b[0;34m\u001b[0m\u001b[0m\n",
            "\u001b[0;32m/usr/local/lib/python3.10/dist-packages/google/colab/_message.py\u001b[0m in \u001b[0;36mread_reply_from_input\u001b[0;34m(message_id, timeout_sec)\u001b[0m\n\u001b[1;32m    101\u001b[0m     ):\n\u001b[1;32m    102\u001b[0m       \u001b[0;32mif\u001b[0m \u001b[0;34m'error'\u001b[0m \u001b[0;32min\u001b[0m \u001b[0mreply\u001b[0m\u001b[0;34m:\u001b[0m\u001b[0;34m\u001b[0m\u001b[0;34m\u001b[0m\u001b[0m\n\u001b[0;32m--> 103\u001b[0;31m         \u001b[0;32mraise\u001b[0m \u001b[0mMessageError\u001b[0m\u001b[0;34m(\u001b[0m\u001b[0mreply\u001b[0m\u001b[0;34m[\u001b[0m\u001b[0;34m'error'\u001b[0m\u001b[0;34m]\u001b[0m\u001b[0;34m)\u001b[0m\u001b[0;34m\u001b[0m\u001b[0;34m\u001b[0m\u001b[0m\n\u001b[0m\u001b[1;32m    104\u001b[0m       \u001b[0;32mreturn\u001b[0m \u001b[0mreply\u001b[0m\u001b[0;34m.\u001b[0m\u001b[0mget\u001b[0m\u001b[0;34m(\u001b[0m\u001b[0;34m'data'\u001b[0m\u001b[0;34m,\u001b[0m \u001b[0;32mNone\u001b[0m\u001b[0;34m)\u001b[0m\u001b[0;34m\u001b[0m\u001b[0;34m\u001b[0m\u001b[0m\n\u001b[1;32m    105\u001b[0m \u001b[0;34m\u001b[0m\u001b[0m\n",
            "\u001b[0;31mMessageError\u001b[0m: RangeError: Maximum call stack size exceeded."
          ]
        }
      ]
    },
    {
      "cell_type": "markdown",
      "source": [
        "## 2. Display 'n' Rows (3 marks)\n",
        "- Instructions: Display the first 13 rows of the dataset."
      ],
      "metadata": {
        "id": "knNIuhCoSFNx"
      }
    },
    {
      "cell_type": "code",
      "source": [
        "# Write code here\n",
        "print(\"First 13 rows of the dataset:\\n\")\n",
        "head_13_rows = df.head(13)\n",
        "head_13_rows"
      ],
      "metadata": {
        "id": "aojeUCP3-DlN"
      },
      "execution_count": null,
      "outputs": []
    },
    {
      "cell_type": "markdown",
      "source": [
        "- Instructions: Display the last 7 rows of the dataset"
      ],
      "metadata": {
        "id": "iNJ7GvJt-EJk"
      }
    },
    {
      "cell_type": "code",
      "source": [
        "# Write code here\n",
        "print(\"Last 7 rows of the dataset:\\n\")\n",
        "tail_7_rows = df.tail(7)\n",
        "tail_7_rows"
      ],
      "metadata": {
        "id": "bvxs1GHK-Iv4"
      },
      "execution_count": null,
      "outputs": []
    },
    {
      "cell_type": "markdown",
      "source": [
        "## 3. Find the Number of Null Values in the Dataset (2 mark)"
      ],
      "metadata": {
        "id": "osg640SM-ySa"
      }
    },
    {
      "cell_type": "code",
      "source": [
        "# Write code here\n",
        "isna()\n",
        "df.isna().sum()"
      ],
      "metadata": {
        "id": "VL7WVh2x_e2u"
      },
      "execution_count": null,
      "outputs": []
    },
    {
      "cell_type": "markdown",
      "source": [
        "## 4. Statistical Summary for Numeric Columns (10 marks)\n",
        "Instructions: Use individual commands to find the statistical summary."
      ],
      "metadata": {
        "id": "FpJ9_gGH_g9Z"
      }
    },
    {
      "cell_type": "markdown",
      "source": [
        "- Count"
      ],
      "metadata": {
        "id": "8R-SXWwY_msH"
      }
    },
    {
      "cell_type": "code",
      "source": [
        "# Write code here\n",
        "count_data"
      ],
      "metadata": {
        "id": "rdhV-VNf_gcm",
        "colab": {
          "base_uri": "https://localhost:8080/",
          "height": 173
        },
        "outputId": "330763bb-914e-4d50-a7f3-10ee9e8c6743"
      },
      "execution_count": 94,
      "outputs": [
        {
          "output_type": "error",
          "ename": "NameError",
          "evalue": "name 'df' is not defined",
          "traceback": [
            "\u001b[0;31m---------------------------------------------------------------------------\u001b[0m",
            "\u001b[0;31mNameError\u001b[0m                                 Traceback (most recent call last)",
            "\u001b[0;32m<ipython-input-94-cb8bfdabcd09>\u001b[0m in \u001b[0;36m<cell line: 2>\u001b[0;34m()\u001b[0m\n\u001b[1;32m      1\u001b[0m \u001b[0;31m# Write code here\u001b[0m\u001b[0;34m\u001b[0m\u001b[0;34m\u001b[0m\u001b[0m\n\u001b[0;32m----> 2\u001b[0;31m \u001b[0mcount_data\u001b[0m \u001b[0;34m=\u001b[0m \u001b[0mdf\u001b[0m\u001b[0;34m.\u001b[0m\u001b[0mcount\u001b[0m\u001b[0;34m(\u001b[0m\u001b[0;34m)\u001b[0m\u001b[0;34m\u001b[0m\u001b[0;34m\u001b[0m\u001b[0m\n\u001b[0m\u001b[1;32m      3\u001b[0m \u001b[0mcount_data\u001b[0m\u001b[0;34m\u001b[0m\u001b[0;34m\u001b[0m\u001b[0m\n",
            "\u001b[0;31mNameError\u001b[0m: name 'df' is not defined"
          ]
        }
      ]
    },
    {
      "cell_type": "markdown",
      "source": [
        "- Mean"
      ],
      "metadata": {
        "id": "3sHkuqIM_wLh"
      }
    },
    {
      "cell_type": "code",
      "source": [
        "# Write code here\n"
      ],
      "metadata": {
        "id": "MyCg6EO4_v1V"
      },
      "execution_count": null,
      "outputs": []
    },
    {
      "cell_type": "markdown",
      "source": [
        "- Standard Deviation"
      ],
      "metadata": {
        "id": "S3KSqJm2_vob"
      }
    },
    {
      "cell_type": "code",
      "source": [
        "# Write code here\n"
      ],
      "metadata": {
        "id": "sKUiXGdy_y_7"
      },
      "execution_count": null,
      "outputs": []
    },
    {
      "cell_type": "markdown",
      "source": [
        "- Quartiles"
      ],
      "metadata": {
        "id": "NvmOKMtoABPG"
      }
    },
    {
      "cell_type": "code",
      "source": [
        "# Write code here\n"
      ],
      "metadata": {
        "id": "TVThkvwx_0zt"
      },
      "execution_count": null,
      "outputs": []
    },
    {
      "cell_type": "markdown",
      "source": [
        "## 5. Calculate Extrema (2 marks)"
      ],
      "metadata": {
        "id": "kydBDNX0AWbd"
      }
    },
    {
      "cell_type": "code",
      "source": [
        "# Write code here\n"
      ],
      "metadata": {
        "id": "u6cVQN3l_0ut"
      },
      "execution_count": null,
      "outputs": []
    },
    {
      "cell_type": "markdown",
      "source": [
        "## 6. Find Unique Values in a Categorical Column (3 marks)\n",
        "\n",
        "- Instructions: Identify the unique values in the `job_role` column (2 marks)\n",
        "- Question: How many unique roles are represented in the dataset? (1 mark)"
      ],
      "metadata": {
        "id": "z9mN8HDMCreb"
      }
    },
    {
      "cell_type": "code",
      "source": [
        "# Write code here"
      ],
      "metadata": {
        "id": "WO3P27X-_0pl"
      },
      "execution_count": null,
      "outputs": []
    },
    {
      "cell_type": "markdown",
      "source": [
        "## 7. Group Data and Calculate Mean (4 marks)\n",
        "- Instructions: Group the dataset by `job_role` and calculate the mean of the `Work_Life_Balance_Rating` for each role.\n",
        "- Question: Which job role has the highest average Work life balance?"
      ],
      "metadata": {
        "id": "GnePX9mfC-6I"
      }
    },
    {
      "cell_type": "code",
      "source": [
        "# Write code here\n",
        "\n"
      ],
      "metadata": {
        "id": "FDp0ZL9R_0j1"
      },
      "execution_count": null,
      "outputs": []
    },
    {
      "cell_type": "markdown",
      "source": [
        "## 8. Filter Data Based on Condition (4 marks)\n",
        "- Instructions: Filter the dataset to show only rows where `work_hours_per_week` is greater than 40.\n",
        "- Question: How many employees are working overtime?"
      ],
      "metadata": {
        "id": "uWZZN2JGDPoQ"
      }
    },
    {
      "cell_type": "code",
      "source": [
        "# Write code here\n"
      ],
      "metadata": {
        "id": "hq77PsstDPWJ"
      },
      "execution_count": null,
      "outputs": []
    },
    {
      "cell_type": "markdown",
      "source": [
        "## 9 . Histogram of Work Hours per Week (5 marks)\n",
        "- Instructions: Create a histogram of `Hours_Worked_Per_Week` (4 marks).\n",
        "- Question: Describe the distribution of work hours. Are most employees working around a certain number of hours per week? (1 mark)"
      ],
      "metadata": {
        "id": "u6rhIsN6DzXO"
      }
    },
    {
      "cell_type": "code",
      "source": [
        "# Write code here\n"
      ],
      "metadata": {
        "id": "oxPN35Ui_0em"
      },
      "execution_count": null,
      "outputs": []
    },
    {
      "cell_type": "markdown",
      "source": [
        "## 10. Scatter Plot of Work Hours vs. Years_of_Experience (4 marks)\n",
        "- Instructions: Create a scatter plot with `Hours_Worked_Per_Week` on the x-axis and `Years_of_Experience` on the y-axis."
      ],
      "metadata": {
        "id": "atghBU1UEFja"
      }
    },
    {
      "cell_type": "code",
      "source": [
        "# Write code here\n",
        "\n"
      ],
      "metadata": {
        "id": "0vYnYIhP_0ZV"
      },
      "execution_count": null,
      "outputs": []
    },
    {
      "cell_type": "markdown",
      "source": [
        "## 11. Bar Chart of Average Work Life Balance by Job Role (5 marks)\n",
        "- Instructions: Create a bar chart showing the average `Work_Life_Balance_Rating` for each `Job_Role` (4 marks).\n",
        "- Question: Which job roles have the highest and lowest average mental Work Life Balance? (1 mark)"
      ],
      "metadata": {
        "id": "SRu7LPAYEOjw"
      }
    },
    {
      "cell_type": "code",
      "source": [
        "# Write code here\n"
      ],
      "metadata": {
        "id": "hshPHrEJ_0TL"
      },
      "execution_count": null,
      "outputs": []
    },
    {
      "cell_type": "markdown",
      "source": [
        "## 12. Pie Chart of Workload Level Distribution (5 marks)\n",
        "- Instructions: Use a pie chart to show the proportion of `Access_to_Mental_Health_Resources` (Yes and no) in the dataset (4 marks).\n",
        "- Question: What percentage of employees have access to mental health resources? (1 mark)"
      ],
      "metadata": {
        "id": "ZT4ReqO1EWyJ"
      }
    },
    {
      "cell_type": "code",
      "source": [
        "# Write code here\n",
        "\n"
      ],
      "metadata": {
        "id": "loB1n-fe_0Lj"
      },
      "execution_count": null,
      "outputs": []
    },
    {
      "cell_type": "markdown",
      "source": [
        "## 13. Scatter Plot of Age vs. Social Isolation Rating (6 marks)\n",
        "- Instructions: Create a scatter plot with `age` on the x-axis and `Social_Isolation_Rating` on the y-axis (4 marks).\n",
        "- Question: Do you observe any trends or relationships between age and social isolation? Is there a noticeable impact of age on isoloation? (2 marks)"
      ],
      "metadata": {
        "id": "huTl0I35Eeta"
      }
    },
    {
      "cell_type": "code",
      "source": [
        "# Write code here\n"
      ],
      "metadata": {
        "id": "_XG_OCnC_0Do"
      },
      "execution_count": null,
      "outputs": []
    },
    {
      "cell_type": "markdown",
      "source": [
        "# Section 3 - Long Answer/Advanced (20%)\n",
        "\n"
      ],
      "metadata": {
        "id": "gegyzqphE2_G"
      }
    },
    {
      "cell_type": "markdown",
      "source": [
        "## Job Role and Workload Level Impact on Mental Health\n",
        "\n",
        "Instructions: Investigate the influence of job roles and workload level on the mental health.\n",
        "- Create a new column `workload_level` that labels each entry as \"High\" if the `Hours_Worked_Per_Week` is above its mean, otherwise \"Low.\" (5 marks)\n",
        "- Group the dataset by `Industry` and calculate the average `Hours_Worked_Per_Week` for each combination. (5 marks)\n",
        "- Use a bar chart to display the average `Stress_Level` for each job role, with separate bars for high and low stress levels. (5 marks)\n",
        "- Analyze the results: Which job roles and workload levels appear to have the greatest impact on mental health? (5 marks)\n"
      ],
      "metadata": {
        "id": "pK8L8R23FALn"
      }
    },
    {
      "cell_type": "code",
      "source": [
        "# Write code here"
      ],
      "metadata": {
        "id": "UeHUHXrK_z5d"
      },
      "execution_count": null,
      "outputs": []
    }
  ]
}